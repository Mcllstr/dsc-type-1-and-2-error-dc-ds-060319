{
 "cells": [
  {
   "cell_type": "markdown",
   "metadata": {},
   "source": [
    "# Type 1 and Type 2 errors\n",
    "\n",
    "## Introduction\n",
    "\n",
    "In hypothesis testing, you are performing statistic tests to determine whether you believe a statement to be true or false. This initial statement you are testing is called the **null hypothesis**. One common example of this is whether you believe two populations to be statistically different from one another. For example, you might be interested in testing if a new website layout is more effective at getting customers to make a purchase. in order to determine if the new layout was indeed effective, you would compare statistics, such as the average number of purchases in a given day, before and after the change.\n",
    "\n",
    "There are times, however, when researchers reject the null hypothesis when they should have not rejected it. The opposite might happen as well, where you might fail to reject the null hypothesis when it should have been rejected. Data Scientists refer to these errors as Type 1 and Type 2 errors respectively, and you will soon dive into each one in more detail.\n",
    "\n",
    "\n",
    "## Objectives\n",
    "\n",
    "You will be able to:\n",
    "\n",
    "* Explain why alpha = 0.05 is chosen as the cut off point for rejecting Null hypothesis in most scientific experiments\n",
    "* Simulate Type I and Type II errors with alpha control to observe the output of an experiment\n",
    "* Describe and differentiate between TYPE I and TYPE II errors\n",
    "* Understand alpha and beta for representing false positive and false negative values"
   ]
  },
  {
   "cell_type": "markdown",
   "metadata": {},
   "source": [
    "## Alpha and Type 1 Errors\n",
    "\n",
    "When conducting hypothesis testing, there will almost always be the chance of accidentally rejecting a null hypothesis when it should not have been rejected. Data scientists have the ability to choose a confidence level, alpha ($\\alpha$) that they will use as the threshold for accepting or rejecting the null hypothesis. This confidence level is also the probability that you reject the null hypothesis when it is actually true. This scenario is a Type 1 error, more commonly known as a **False Positive**. \n",
    "\n",
    "Here is a scenario that will better explain how a Type 1 error might occur:\n",
    "\n",
    "Say that you flipped a coin 30 times and get a total of 23 heads. The first thought in your head is, is this a fair coin? With that you can create the following null hypothesis:\n",
    "\n",
    "**Null Hypothesis:** This coin is fair.\n",
    "\n",
    "**Alternative Hypothesis:** This coin is not fair.\n",
    "\n",
    "Or expressed mathematically:\n",
    "\n",
    "$H_{0} : \\mu = 0.5 $\n",
    "\n",
    "$H_{1} : \\mu \\neq 0.5$\n",
    "\n",
    "The null hypothesis is assumed to be true unless there is overwhelming evidence to the contrary. To quantify this you must determine what level of confidence for which you will reject the null hypothesis. If a researcher was to set **alpha ($\\alpha$) = .05**, this indicates that there is a 5% chance that you will reject the null hypothesis when it is actually true. Another way to think about this is that if you repeated this experiment 20 times, you would expect to see a the hypothesis rejected, purely by chance, one time. The threshold for alpha varies significantly depending on your scientific disciplines. Physics, for example, often require that findings are significant to the an alpha level of 0.0000003 or, in other words, one would expect results to occur by chance at most one out of 3.5 million trials! For most other disciplines, an $\\alpha$ level of 0.05 is enough to prove some results are statistically significant.\n",
    "\n",
    "\n",
    "\n",
    "## Beta and Type 2 Errors\n",
    "Another type of error is beta ($\\beta$), which is the probability that you fail to reject the null hypothesis when it is actually false. Type 2 errors are also referred to as **False Negatives**. Beta is related to something called _Power_, which is the probability of rejecting the null hypothesis given that it actually is false. Mathematically, _Power_ = 1 - $\\beta$. When designing an experiment, scientists will frequently choose a power level they want for an experiment and from that obtain their Type 2 error rate.\n",
    "\n",
    "\n",
    "## Balancing Type 1 and Type II Errors Examples   \n",
    "Different scenarios call for scientists to minimize one type of error over another. The two error types are inversely related to one other; reducing type 1 errors will increase type 2 errors and vice versa. Let's go through some different real-life scenarios to determine when it would be better to have a Type 1 or Type 2 error. Imagine you are on a jury and need to decide if someone will be sent to prison for life for a crime. Given that you don't know the truth of whether or not this individual committed a crime, which would be worse, a Type 1 or a Type 2 error here?\n",
    "\n",
    "* $H_{0} : defendant = innocent $ \n",
    "\n",
    "* $H_{1} : defendant \\neq innocent$\n",
    "\n",
    "<img src=\"./images/jury.jpeg\">\n",
    "\n",
    "Hopefully you said a Type 1 error would be worse! A Type 1 error would mean that you would send someone to jail when they were truly not guilty! In other words, the jury has rejected the null hypothesis that the defendant is innocent, even though he has not committed any crime. Of course, you would also not want to have a Type 2 error because this would mean that someone actually has committed a crime, and the jury is letting them get away with it.\n",
    "\n",
    "Let's take a look at an example of a medical scenario. A patient with symptoms of a consistent headache goes to a doctor's office and gets an MRI scan of their head because the doctor suspects the patient might have a brain tumor. Would it be worse to have a Type 1 or Type 2 error in this scenario?\n",
    "\n",
    "* $H_{0} : patient = healthy $ \n",
    "\n",
    "* $H_{1} : patient \\neq healthy$\n",
    "\n",
    "\n",
    "<img src=\"./images/doctor.jpg\" style=\"width: 280px;\"/>\n",
    "\n",
    "Hopefully you said a Type 2 error would be worse! A Type 2 error would mean that the patient actually has a brain tumor, but the doctor claims there is nothing wrong with them. In other words, the null hypothesis is that the person has no brain tumor, and this hypothesis fails to be rejected, meaning the person is diagnosed as healthy when in actuality, they are far from it.\n",
    "\n",
    "When scientists are designing experiments, they need to weigh the risks of Type 1 and Type 2 errors and make decisions about choosing alpha level and power, which you will cover in more detail soon, to optimize for whichever type of error they want to minimize. "
   ]
  },
  {
   "cell_type": "markdown",
   "metadata": {},
   "source": [
    "## Testing an Unfair Coin"
   ]
  },
  {
   "cell_type": "code",
   "execution_count": 1,
   "metadata": {},
   "outputs": [],
   "source": [
    "import numpy as np\n",
    "import scipy"
   ]
  },
  {
   "cell_type": "markdown",
   "metadata": {},
   "source": [
    "Here you'll simulate an unfair coin with 75% chance of heads and 25% chance of tails. You'll then *flip* this coin 20 times and perform a test to determine whether you believe it to be fair or unfair."
   ]
  },
  {
   "cell_type": "code",
   "execution_count": 6,
   "metadata": {},
   "outputs": [
    {
     "data": {
      "text/plain": [
       "15"
      ]
     },
     "execution_count": 6,
     "metadata": {},
     "output_type": "execute_result"
    }
   ],
   "source": [
    "n = 20 #Number of flips\n",
    "p = .75 #Simulating an unfair coin\n",
    "coin1 = np.random.binomial(n, p)\n",
    "coin1"
   ]
  },
  {
   "cell_type": "markdown",
   "metadata": {},
   "source": [
    "In this case, you know the theoretical mean and standard deviation of a fair coin; it can be modeled by a binomial distribution with p = 0.5. In future cases, you'll often use a t-test (as you've already previewed) in order to compare samples, but don't know the overall population statistics.\n",
    "\n",
    "The standard deviation of a binomial distribution is given by:  \n",
    "\n",
    "$\\sigma = \\sqrt{n \\bullet p \\bullet (1-p)}$\n",
    "\n",
    "So you would expect that for a sample of 20 elements, the standard deviation from the expected number of heads (10) for a fair coin should be:"
   ]
  },
  {
   "cell_type": "code",
   "execution_count": 7,
   "metadata": {},
   "outputs": [
    {
     "data": {
      "text/plain": [
       "2.23606797749979"
      ]
     },
     "execution_count": 7,
     "metadata": {},
     "output_type": "execute_result"
    }
   ],
   "source": [
    "sigma = np.sqrt(n*.5*(1-.5))\n",
    "sigma"
   ]
  },
  {
   "cell_type": "markdown",
   "metadata": {},
   "source": [
    "And with that you can now calculate a p-value using a traditional z-test:\n",
    "\n",
    "### $ z = \\frac{\\bar{x}-\\mu}{\\sigma/\\sqrt{n}}$\n",
    "\n",
    "Here, $\\bar{x}$ is the number of heads, $\\mu$ (mu) is the expected number of heads (10), $\\sigma$ (sigma) is the standard deviation (calculated above) and n is the number of observations (20)."
   ]
  },
  {
   "cell_type": "code",
   "execution_count": 4,
   "metadata": {},
   "outputs": [
    {
     "data": {
      "text/plain": [
       "10.0"
      ]
     },
     "execution_count": 4,
     "metadata": {},
     "output_type": "execute_result"
    }
   ],
   "source": [
    "z = (coin1 - 10) / (sigma / np.sqrt(n))\n",
    "z"
   ]
  },
  {
   "cell_type": "code",
   "execution_count": 5,
   "metadata": {},
   "outputs": [
    {
     "data": {
      "text/plain": [
       "10.0"
      ]
     },
     "execution_count": 5,
     "metadata": {},
     "output_type": "execute_result"
    }
   ],
   "source": [
    "z = (coin1 - 10) / (sigma / np.sqrt(n))\n",
    "z"
   ]
  },
  {
   "cell_type": "markdown",
   "metadata": {},
   "source": [
    "Finally, you can take your z-score and apply standard lookup tables based on your knowledge of the normal distribution to determine the probability "
   ]
  },
  {
   "cell_type": "code",
   "execution_count": 6,
   "metadata": {},
   "outputs": [],
   "source": [
    "import scipy.stats as st"
   ]
  },
  {
   "cell_type": "code",
   "execution_count": 7,
   "metadata": {
    "scrolled": true
   },
   "outputs": [
    {
     "data": {
      "text/plain": [
       "7.61985302416047e-24"
      ]
     },
     "execution_count": 7,
     "metadata": {},
     "output_type": "execute_result"
    }
   ],
   "source": [
    "st.norm.sf(np.abs(z))"
   ]
  },
  {
   "cell_type": "markdown",
   "metadata": {},
   "source": [
    "This is an absolutely tiny p-value, meaning that you can reject the null hypothesis *this coin is fair* and conclude that the coin is unfair!\n",
    "\n",
    "Here is a demonstration of how the average p-values change as the size of the sample increases."
   ]
  },
  {
   "cell_type": "code",
   "execution_count": 8,
   "metadata": {},
   "outputs": [],
   "source": [
    "import matplotlib.pyplot as plt\n",
    "import seaborn as sns\n",
    "sns.set_style('darkgrid')\n",
    "%matplotlib inline"
   ]
  },
  {
   "cell_type": "code",
   "execution_count": 9,
   "metadata": {},
   "outputs": [
    {
     "data": {
      "text/plain": [
       "Text(0.5,0,'Number of Coin Flips')"
      ]
     },
     "execution_count": 9,
     "metadata": {},
     "output_type": "execute_result"
    },
    {
     "data": {
      "image/png": "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